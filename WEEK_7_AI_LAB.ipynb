{
  "nbformat": 4,
  "nbformat_minor": 0,
  "metadata": {
    "colab": {
      "provenance": [],
      "toc_visible": true,
      "authorship_tag": "ABX9TyNk2SOnDE81O3A/uxDIeTLG",
      "include_colab_link": true
    },
    "kernelspec": {
      "name": "python3",
      "display_name": "Python 3"
    },
    "language_info": {
      "name": "python"
    }
  },
  "cells": [
    {
      "cell_type": "markdown",
      "metadata": {
        "id": "view-in-github",
        "colab_type": "text"
      },
      "source": [
        "<a href=\"https://colab.research.google.com/github/AbR04/5A-AI/blob/main/WEEK_7_AI_LAB.ipynb\" target=\"_parent\"><img src=\"https://colab.research.google.com/assets/colab-badge.svg\" alt=\"Open In Colab\"/></a>"
      ]
    },
    {
      "cell_type": "code",
      "source": [
        "from unification import unify, var\n",
        "from collections import namedtuple\n",
        "\n",
        "# Define the data structure for facts\n",
        "Fact = namedtuple('Fact', ['predicate', 'args'])\n",
        "\n",
        "# Define facts as an example\n",
        "facts = [\n",
        "    Fact('ancestor', ['abraham', 'clinton']),\n",
        "    Fact('ancestor', ['fillmore', 'abraham']),\n",
        "    Fact('ancestor', ['eisenhower', 'fillmore']),\n",
        "    Fact('dog', ['herbert', 'brown']),\n",
        "    Fact('dog', ['herbert', 'tan'])\n",
        "]\n",
        "\n",
        "# Define a simple function to process queries using unification\n",
        "def process_query(query, facts):\n",
        "    # Create a variable for the query's unknown part\n",
        "    a = var('a')\n",
        "    b = var('b')\n",
        "\n",
        "    # Query example: find ancestor relationships\n",
        "    query = [\n",
        "        ('ancestor', [a, 'clinton']),\n",
        "        ('ancestor', [a, b]),\n",
        "        ('dog', [b, 'brown'])\n",
        "    ]\n",
        "\n",
        "    # Print each step of the unification process\n",
        "    for fact in facts:\n",
        "        print(f\"Unifying fact: {fact.predicate} with query: {query[0][0]}\")\n",
        "\n",
        "        # Unify the fact with the query's predicate\n",
        "        result = unify(fact, Fact(query[0][0], query[0][1]))\n",
        "        if result is not False:\n",
        "            print(f\"Unification result: {result}\")\n",
        "        else:\n",
        "            print(\"Unification failed\")\n",
        "\n",
        "# Run the search\n",
        "process_query(\"((ancestor ?a clinton) (ancestor ?a ?brown-dog) (dog (name ?brown-dog) (color brown)))\", facts)\n"
      ],
      "metadata": {
        "colab": {
          "base_uri": "https://localhost:8080/"
        },
        "id": "0foaEF0OusyS",
        "outputId": "9a1203ac-e17f-4b9a-eb4d-f2a6def9c3fa"
      },
      "execution_count": 10,
      "outputs": [
        {
          "output_type": "stream",
          "name": "stdout",
          "text": [
            "Unifying fact: ancestor with query: ancestor\n",
            "Unification result: {~a: 'abraham'}\n",
            "Unifying fact: ancestor with query: ancestor\n",
            "Unification failed\n",
            "Unifying fact: ancestor with query: ancestor\n",
            "Unification failed\n",
            "Unifying fact: dog with query: ancestor\n",
            "Unification failed\n",
            "Unifying fact: dog with query: ancestor\n",
            "Unification failed\n"
          ]
        }
      ]
    }
  ]
}