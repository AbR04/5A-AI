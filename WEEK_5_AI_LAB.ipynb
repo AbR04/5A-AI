{
  "nbformat": 4,
  "nbformat_minor": 0,
  "metadata": {
    "colab": {
      "provenance": [],
      "authorship_tag": "ABX9TyMN/5RqkMDu5AqFQlYvOhse",
      "include_colab_link": true
    },
    "kernelspec": {
      "name": "python3",
      "display_name": "Python 3"
    },
    "language_info": {
      "name": "python"
    }
  },
  "cells": [
    {
      "cell_type": "markdown",
      "metadata": {
        "id": "view-in-github",
        "colab_type": "text"
      },
      "source": [
        "<a href=\"https://colab.research.google.com/github/AbR04/5A-AI/blob/main/WEEK_5_AI_LAB.ipynb\" target=\"_parent\"><img src=\"https://colab.research.google.com/assets/colab-badge.svg\" alt=\"Open In Colab\"/></a>"
      ]
    },
    {
      "cell_type": "code",
      "source": [
        "import numpy as np\n",
        "import random\n",
        "import math\n",
        "\n",
        "# Objective function to calculate non-attacking queens\n",
        "def queens_max(position):\n",
        "    no_attack_on_j = 0\n",
        "    queen_not_attacking = 0\n",
        "    for i in range(len(position) - 1):\n",
        "        no_attack_on_j = 0\n",
        "        for j in range(i + 1, len(position)):\n",
        "            if (position[j] != position[i]) and (position[j] != position[i] + (j - i)) and (position[j] != position[i] - (j - i)):\n",
        "                no_attack_on_j += 1\n",
        "                if no_attack_on_j == len(position) - 1 - i:\n",
        "                    queen_not_attacking += 1\n",
        "    if queen_not_attacking == 7:\n",
        "        queen_not_attacking += 1\n",
        "    return queen_not_attacking\n",
        "\n",
        "# Simulated Annealing function\n",
        "def simulated_annealing(initial_state, fitness_fn, max_attempts, max_iters, T_initial=1.0, T_min=0.0001, alpha=0.95):\n",
        "    current_state = initial_state\n",
        "    current_fitness = fitness_fn(current_state)\n",
        "    T = T_initial\n",
        "\n",
        "    best_state = current_state\n",
        "    best_fitness = current_fitness\n",
        "\n",
        "    for iteration in range(max_iters):\n",
        "        if T < T_min:\n",
        "            break\n",
        "\n",
        "        # Generate a neighboring state (small random change)\n",
        "        neighbor_state = current_state.copy()\n",
        "        i = random.randint(0, len(neighbor_state) - 1)\n",
        "        neighbor_state[i] = random.randint(0, len(neighbor_state) - 1)\n",
        "\n",
        "        # Calculate fitness of the neighbor\n",
        "        neighbor_fitness = fitness_fn(neighbor_state)\n",
        "\n",
        "        # If the neighbor is better or the move is accepted based on temperature, move to the neighbor\n",
        "        if neighbor_fitness > current_fitness or random.random() < math.exp((neighbor_fitness - current_fitness) / T):\n",
        "            current_state = neighbor_state\n",
        "            current_fitness = neighbor_fitness\n",
        "\n",
        "        # Update the best state\n",
        "        if current_fitness > best_fitness:\n",
        "            best_state = current_state\n",
        "            best_fitness = current_fitness\n",
        "\n",
        "        # Reduce the temperature\n",
        "        T *= alpha\n",
        "\n",
        "    return best_state, best_fitness\n",
        "\n",
        "# Initial position (random or predefined)\n",
        "initial_position = np.array([4, 6, 1, 5, 2, 0, 3, 7])\n",
        "\n",
        "# Parameters for Simulated Annealing\n",
        "max_attempts = 500\n",
        "max_iters = 5000\n",
        "\n",
        "# Run simulated annealing to find the best position\n",
        "best_position, best_objective = simulated_annealing(\n",
        "    initial_state=initial_position,\n",
        "    fitness_fn=queens_max,\n",
        "    max_attempts=max_attempts,\n",
        "    max_iters=max_iters\n",
        ")\n",
        "\n",
        "print('The best position found is:', best_position)\n",
        "print('The number of queens that are not attacking each other is:', best_objective)"
      ],
      "metadata": {
        "colab": {
          "base_uri": "https://localhost:8080/"
        },
        "id": "cf2UdnUXh35u",
        "outputId": "28512e61-fc3b-4ee6-b0dd-f0c02147badc"
      },
      "execution_count": 6,
      "outputs": [
        {
          "output_type": "stream",
          "name": "stdout",
          "text": [
            "The best position found is: [4 6 1 5 2 0 3 7]\n",
            "The number of queens that are not attacking each other is: 8\n"
          ]
        }
      ]
    }
  ]
}